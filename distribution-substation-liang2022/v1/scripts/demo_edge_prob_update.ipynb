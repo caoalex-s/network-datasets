{
 "cells": [
  {
   "cell_type": "code",
   "execution_count": 1,
   "id": "6507d30e",
   "metadata": {},
   "outputs": [],
   "source": [
    "import json\n",
    "import networkx as nx\n",
    "import utils"
   ]
  },
  {
   "cell_type": "markdown",
   "id": "27ac2722",
   "metadata": {},
   "source": [
    "# Updating prob.json \n",
    "\n",
    "Given a PGA (g) value."
   ]
  },
  {
   "cell_type": "code",
   "execution_count": null,
   "id": "1d89cc2e",
   "metadata": {},
   "outputs": [
    {
     "name": "stdout",
     "output_type": "stream",
     "text": [
      "Saved ../data/probs.json\n"
     ]
    }
   ],
   "source": [
    "pga_g = 0.1 # can be changed to analyse different scenarios\n",
    "\n",
    "probs = utils.get_edge_probs(pga_g)"
   ]
  }
 ],
 "metadata": {
  "kernelspec": {
   "display_name": "mbnpy",
   "language": "python",
   "name": "python3"
  },
  "language_info": {
   "codemirror_mode": {
    "name": "ipython",
    "version": 3
   },
   "file_extension": ".py",
   "mimetype": "text/x-python",
   "name": "python",
   "nbconvert_exporter": "python",
   "pygments_lexer": "ipython3",
   "version": "3.12.11"
  }
 },
 "nbformat": 4,
 "nbformat_minor": 5
}
