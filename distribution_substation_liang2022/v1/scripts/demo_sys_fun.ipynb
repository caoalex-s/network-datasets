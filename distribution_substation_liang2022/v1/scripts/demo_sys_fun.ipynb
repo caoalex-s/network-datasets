{
 "cells": [
  {
   "cell_type": "code",
   "execution_count": 9,
   "id": "6507d30e",
   "metadata": {},
   "outputs": [],
   "source": [
    "import json\n",
    "import networkx as nx\n",
    "import utils"
   ]
  },
  {
   "cell_type": "markdown",
   "id": "2a5f5233",
   "metadata": {},
   "source": [
    "# Load data"
   ]
  },
  {
   "cell_type": "code",
   "execution_count": 10,
   "id": "31be52a2",
   "metadata": {},
   "outputs": [
    {
     "name": "stdout",
     "output_type": "stream",
     "text": [
      "Number of components: 77\n",
      "Number of nodes: 45\n"
     ]
    }
   ],
   "source": [
    "with open('../data/edges.json', 'r') as file:\n",
    "    edges = json.load(file)\n",
    "with open('../data/nodes.json', 'r') as file:\n",
    "    nodes = json.load(file)\n",
    "\n",
    "print(f\"Number of components: {len(edges)}\")\n",
    "print(f\"Number of nodes: {len(nodes)}\")\n",
    "\n",
    "node_groups = utils.process_nodes(nodes)"
   ]
  },
  {
   "cell_type": "markdown",
   "id": "0931bdb3",
   "metadata": {},
   "source": [
    "# System function for network reliability assessment\n",
    "\n",
    "Given a component vector state."
   ]
  },
  {
   "cell_type": "code",
   "execution_count": 11,
   "id": "a2f5e67b",
   "metadata": {},
   "outputs": [
    {
     "name": "stdout",
     "output_type": "stream",
     "text": [
      "{'M_Line220_1': 1, 'M_Line220_2': 1, 'M_Line220_3': 1, 'M_Line220_4': 1, 'M_Line220_5': 1, 'M_Line220_6': 1, 'M_DS220_1': 1, 'M_DS220_2': 1, 'M_DS220_3': 1, 'M_DS220_4': 1, 'M_DS220_5': 1, 'M_DS220_6': 1, 'M_DS220_7': 1, 'M_DS220_8': 1, 'M_DS220_9': 1, 'M_DS220_10': 1, 'M_DS220_11': 1, 'M_DS220_12': 1, 'M_Bus220_1': 1, 'M_Bus220_2': 1, 'M_BC220_1': 1, 'M_BC220_2': 1, 'M_DS220_13': 1, 'M_DS220_14': 1, 'M_DS220_15': 1, 'M_DS220_16': 1, 'M_DS220_17': 1, 'M_DS220_18': 1, 'M_TF_1': 1, 'M_TF_2': 1, 'M_TF_3': 1, 'M_TF_4': 1, 'M_DS110_2': 1, 'M_DS110_3': 1, 'M_DS110_4': 1, 'M_DS110_5': 1, 'M_DS110_6': 1, 'M_Bus110_1': 1, 'M_Bus110_2': 1, 'M_BC110_1': 1, 'M_BC110_2': 1, 'M_DS110_7': 1, 'M_DS110_8': 1, 'M_DS110_9': 1, 'M_DS110_10': 1, 'M_DS110_11': 1, 'M_DS110_12': 1, 'M_DS110_13': 1, 'M_DS110_14': 1, 'M_DS110_15': 1, 'M_DS110_16': 1, 'M_DS110_17': 1, 'M_DS110_18': 1, 'M_DS110_19': 1, 'M_DS110_20': 1, 'M_DS110_21': 1, 'M_DS110_22': 1, 'M_DS110_23': 1, 'M_DS110_24': 1, 'M_DS110_25': 1, 'M_DS110_26': 1, 'M_DS110_27': 1, 'M_DS110_28': 1, 'M_DS110_29': 1, 'M_DS110_30': 1, 'M_Line110_1': 1, 'M_Line110_2': 1, 'M_Line110_3': 1, 'M_Line110_4': 1, 'M_Line110_5': 1, 'M_Line110_6': 1, 'M_Line110_7': 1, 'M_Line110_8': 1, 'M_Line110_9': 1, 'M_Line110_10': 1, 'M_Line110_11': 1, 'M_Line110_12': 1}\n",
      "\n",
      "System capacity: 360.0 with details:\n",
      "\tTotal input: 360.0\n",
      "\tTotal output: 360.0\n",
      "\tTotal transmission: 540\n",
      "\tInput breakdowns: [96.0, 120.0, 144.0]\n",
      "\tOutput breakdowns: [48.0, 60.0, 72.0, 48.0, 60.0, 72.0]\n",
      "\tTransmission breakdowns: [180, 180, 180]\n"
     ]
    }
   ],
   "source": [
    "# First scenario\n",
    "comps_st = {k: 1 for k in edges.keys()}\n",
    "print(comps_st)\n",
    "\n",
    "sys_val = utils.sys_fun(comps_st, edges, nodes, node_groups, return_details=True)\n",
    "print(\"\")\n",
    "print(f\"System capacity: {sys_val[\"System capacity\"]} with details:\")\n",
    "for k, v in sys_val.items():\n",
    "    if k != \"System capacity\":\n",
    "        print(f\"\\t{k}: {v}\")\n"
   ]
  },
  {
   "cell_type": "code",
   "execution_count": 12,
   "id": "e62eb5fd",
   "metadata": {},
   "outputs": [
    {
     "name": "stdout",
     "output_type": "stream",
     "text": [
      "{'M_Line220_1': 0, 'M_Line220_2': 0, 'M_Line220_3': 1, 'M_Line220_4': 1, 'M_Line220_5': 1, 'M_Line220_6': 1, 'M_DS220_1': 1, 'M_DS220_2': 1, 'M_DS220_3': 1, 'M_DS220_4': 1, 'M_DS220_5': 1, 'M_DS220_6': 1, 'M_DS220_7': 1, 'M_DS220_8': 1, 'M_DS220_9': 1, 'M_DS220_10': 1, 'M_DS220_11': 1, 'M_DS220_12': 1, 'M_Bus220_1': 1, 'M_Bus220_2': 1, 'M_BC220_1': 1, 'M_BC220_2': 1, 'M_DS220_13': 1, 'M_DS220_14': 1, 'M_DS220_15': 1, 'M_DS220_16': 1, 'M_DS220_17': 1, 'M_DS220_18': 1, 'M_TF_1': 1, 'M_TF_2': 1, 'M_TF_3': 1, 'M_TF_4': 1, 'M_DS110_2': 1, 'M_DS110_3': 1, 'M_DS110_4': 1, 'M_DS110_5': 1, 'M_DS110_6': 1, 'M_Bus110_1': 1, 'M_Bus110_2': 1, 'M_BC110_1': 1, 'M_BC110_2': 1, 'M_DS110_7': 1, 'M_DS110_8': 1, 'M_DS110_9': 1, 'M_DS110_10': 1, 'M_DS110_11': 1, 'M_DS110_12': 1, 'M_DS110_13': 1, 'M_DS110_14': 1, 'M_DS110_15': 1, 'M_DS110_16': 1, 'M_DS110_17': 1, 'M_DS110_18': 1, 'M_DS110_19': 1, 'M_DS110_20': 1, 'M_DS110_21': 1, 'M_DS110_22': 1, 'M_DS110_23': 1, 'M_DS110_24': 1, 'M_DS110_25': 1, 'M_DS110_26': 1, 'M_DS110_27': 1, 'M_DS110_28': 1, 'M_DS110_29': 1, 'M_DS110_30': 1, 'M_Line110_1': 1, 'M_Line110_2': 1, 'M_Line110_3': 1, 'M_Line110_4': 1, 'M_Line110_5': 1, 'M_Line110_6': 1, 'M_Line110_7': 1, 'M_Line110_8': 1, 'M_Line110_9': 1, 'M_Line110_10': 1, 'M_Line110_11': 1, 'M_Line110_12': 1}\n",
      "\n",
      "System capacity: 264.0 with details:\n",
      "\tTotal input: 264.0\n",
      "\tTotal output: 360.0\n",
      "\tTotal transmission: 540\n",
      "\tInput breakdowns: [0.0, 120.0, 144.0]\n",
      "\tOutput breakdowns: [48.0, 60.0, 72.0, 48.0, 60.0, 72.0]\n",
      "\tTransmission breakdowns: [180, 180, 180]\n"
     ]
    }
   ],
   "source": [
    "# Second scenario\n",
    "comps_st = {k: 1 for k in edges.keys()}\n",
    "for k in ['M_Line220_1', 'M_Line220_2']:\n",
    "    comps_st[k] = 0\n",
    "print(comps_st)\n",
    "\n",
    "sys_val = utils.sys_fun(comps_st, edges, nodes, node_groups, return_details=True)\n",
    "print(\"\")\n",
    "print(f\"System capacity: {sys_val[\"System capacity\"]} with details:\")\n",
    "for k, v in sys_val.items():\n",
    "    if k != \"System capacity\":\n",
    "        print(f\"\\t{k}: {v}\")"
   ]
  },
  {
   "cell_type": "code",
   "execution_count": 13,
   "id": "7c4ca49c",
   "metadata": {},
   "outputs": [
    {
     "name": "stdout",
     "output_type": "stream",
     "text": [
      "{'M_Line220_1': 0, 'M_Line220_2': 0, 'M_Line220_3': 0, 'M_Line220_4': 0, 'M_Line220_5': 0, 'M_Line220_6': 1, 'M_DS220_1': 1, 'M_DS220_2': 1, 'M_DS220_3': 1, 'M_DS220_4': 1, 'M_DS220_5': 1, 'M_DS220_6': 1, 'M_DS220_7': 1, 'M_DS220_8': 1, 'M_DS220_9': 1, 'M_DS220_10': 1, 'M_DS220_11': 1, 'M_DS220_12': 1, 'M_Bus220_1': 1, 'M_Bus220_2': 1, 'M_BC220_1': 1, 'M_BC220_2': 1, 'M_DS220_13': 1, 'M_DS220_14': 1, 'M_DS220_15': 1, 'M_DS220_16': 1, 'M_DS220_17': 1, 'M_DS220_18': 1, 'M_TF_1': 1, 'M_TF_2': 1, 'M_TF_3': 1, 'M_TF_4': 1, 'M_DS110_2': 1, 'M_DS110_3': 1, 'M_DS110_4': 1, 'M_DS110_5': 1, 'M_DS110_6': 1, 'M_Bus110_1': 1, 'M_Bus110_2': 1, 'M_BC110_1': 1, 'M_BC110_2': 1, 'M_DS110_7': 1, 'M_DS110_8': 1, 'M_DS110_9': 1, 'M_DS110_10': 1, 'M_DS110_11': 1, 'M_DS110_12': 1, 'M_DS110_13': 1, 'M_DS110_14': 1, 'M_DS110_15': 1, 'M_DS110_16': 1, 'M_DS110_17': 1, 'M_DS110_18': 1, 'M_DS110_19': 1, 'M_DS110_20': 1, 'M_DS110_21': 1, 'M_DS110_22': 1, 'M_DS110_23': 1, 'M_DS110_24': 1, 'M_DS110_25': 1, 'M_DS110_26': 1, 'M_DS110_27': 1, 'M_DS110_28': 1, 'M_DS110_29': 1, 'M_DS110_30': 1, 'M_Line110_1': 1, 'M_Line110_2': 1, 'M_Line110_3': 1, 'M_Line110_4': 1, 'M_Line110_5': 1, 'M_Line110_6': 1, 'M_Line110_7': 1, 'M_Line110_8': 1, 'M_Line110_9': 1, 'M_Line110_10': 1, 'M_Line110_11': 1, 'M_Line110_12': 1}\n",
      "\n",
      "System capacity: 120.0 with details:\n",
      "\tTotal input: 120.0\n",
      "\tTotal output: 360.0\n",
      "\tTotal transmission: 540\n",
      "\tInput breakdowns: [0.0, 0.0, 120]\n",
      "\tOutput breakdowns: [48.0, 60.0, 72.0, 48.0, 60.0, 72.0]\n",
      "\tTransmission breakdowns: [180, 180, 180]\n"
     ]
    }
   ],
   "source": [
    "# Third scenario\n",
    "comps_st = {k: 1 for k in edges.keys()}\n",
    "for k in ['M_Line220_1', 'M_Line220_2', 'M_Line220_3', 'M_Line220_4', 'M_Line220_5']:\n",
    "    comps_st[k] = 0\n",
    "print(comps_st)\n",
    "\n",
    "sys_val = utils.sys_fun(comps_st, edges, nodes, node_groups, return_details=True)\n",
    "print(\"\")\n",
    "print(f\"System capacity: {sys_val[\"System capacity\"]} with details:\")\n",
    "for k, v in sys_val.items():\n",
    "    if k != \"System capacity\":\n",
    "        print(f\"\\t{k}: {v}\")"
   ]
  },
  {
   "cell_type": "code",
   "execution_count": 14,
   "id": "3921463a",
   "metadata": {},
   "outputs": [
    {
     "name": "stdout",
     "output_type": "stream",
     "text": [
      "{'M_Line220_1': 0, 'M_Line220_2': 1, 'M_Line220_3': 1, 'M_Line220_4': 1, 'M_Line220_5': 1, 'M_Line220_6': 1, 'M_DS220_1': 1, 'M_DS220_2': 1, 'M_DS220_3': 1, 'M_DS220_4': 1, 'M_DS220_5': 1, 'M_DS220_6': 1, 'M_DS220_7': 1, 'M_DS220_8': 1, 'M_DS220_9': 1, 'M_DS220_10': 1, 'M_DS220_11': 1, 'M_DS220_12': 1, 'M_Bus220_1': 1, 'M_Bus220_2': 1, 'M_BC220_1': 1, 'M_BC220_2': 1, 'M_DS220_13': 1, 'M_DS220_14': 1, 'M_DS220_15': 1, 'M_DS220_16': 1, 'M_DS220_17': 1, 'M_DS220_18': 1, 'M_TF_1': 1, 'M_TF_2': 1, 'M_TF_3': 1, 'M_TF_4': 1, 'M_DS110_2': 1, 'M_DS110_3': 1, 'M_DS110_4': 1, 'M_DS110_5': 1, 'M_DS110_6': 1, 'M_Bus110_1': 1, 'M_Bus110_2': 1, 'M_BC110_1': 1, 'M_BC110_2': 1, 'M_DS110_7': 1, 'M_DS110_8': 1, 'M_DS110_9': 1, 'M_DS110_10': 1, 'M_DS110_11': 1, 'M_DS110_12': 1, 'M_DS110_13': 1, 'M_DS110_14': 1, 'M_DS110_15': 1, 'M_DS110_16': 1, 'M_DS110_17': 1, 'M_DS110_18': 1, 'M_DS110_19': 1, 'M_DS110_20': 1, 'M_DS110_21': 1, 'M_DS110_22': 1, 'M_DS110_23': 1, 'M_DS110_24': 1, 'M_DS110_25': 1, 'M_DS110_26': 1, 'M_DS110_27': 1, 'M_DS110_28': 1, 'M_DS110_29': 1, 'M_DS110_30': 1, 'M_Line110_1': 0, 'M_Line110_2': 0, 'M_Line110_3': 1, 'M_Line110_4': 1, 'M_Line110_5': 1, 'M_Line110_6': 1, 'M_Line110_7': 1, 'M_Line110_8': 1, 'M_Line110_9': 1, 'M_Line110_10': 1, 'M_Line110_11': 1, 'M_Line110_12': 1}\n",
      "\n",
      "System capacity: 312.0 with details:\n",
      "\tTotal input: 344.0\n",
      "\tTotal output: 312.0\n",
      "\tTotal transmission: 540\n",
      "\tInput breakdowns: [80, 120.0, 144.0]\n",
      "\tOutput breakdowns: [0.0, 60.0, 72.0, 48.0, 60.0, 72.0]\n",
      "\tTransmission breakdowns: [180, 180, 180]\n"
     ]
    }
   ],
   "source": [
    "# Some more ..\n",
    "comps_st = {k: 1 for k in edges.keys()}\n",
    "for k in ['M_Line220_1', 'M_Line110_1', 'M_Line110_2']:\n",
    "    comps_st[k] = 0\n",
    "print(comps_st)\n",
    "\n",
    "sys_val = utils.sys_fun(comps_st, edges, nodes, node_groups, return_details=True)\n",
    "print(\"\")\n",
    "print(f\"System capacity: {sys_val[\"System capacity\"]} with details:\")\n",
    "for k, v in sys_val.items():\n",
    "    if k != \"System capacity\":\n",
    "        print(f\"\\t{k}: {v}\")"
   ]
  },
  {
   "cell_type": "code",
   "execution_count": 15,
   "id": "01c4a4aa",
   "metadata": {},
   "outputs": [
    {
     "name": "stdout",
     "output_type": "stream",
     "text": [
      "{'M_Line220_1': 1, 'M_Line220_2': 1, 'M_Line220_3': 1, 'M_Line220_4': 1, 'M_Line220_5': 1, 'M_Line220_6': 1, 'M_DS220_1': 1, 'M_DS220_2': 1, 'M_DS220_3': 1, 'M_DS220_4': 1, 'M_DS220_5': 1, 'M_DS220_6': 1, 'M_DS220_7': 1, 'M_DS220_8': 1, 'M_DS220_9': 1, 'M_DS220_10': 1, 'M_DS220_11': 1, 'M_DS220_12': 1, 'M_Bus220_1': 1, 'M_Bus220_2': 1, 'M_BC220_1': 1, 'M_BC220_2': 1, 'M_DS220_13': 1, 'M_DS220_14': 1, 'M_DS220_15': 1, 'M_DS220_16': 1, 'M_DS220_17': 1, 'M_DS220_18': 1, 'M_TF_1': 0, 'M_TF_2': 0, 'M_TF_3': 1, 'M_TF_4': 1, 'M_DS110_2': 1, 'M_DS110_3': 1, 'M_DS110_4': 1, 'M_DS110_5': 1, 'M_DS110_6': 1, 'M_Bus110_1': 1, 'M_Bus110_2': 1, 'M_BC110_1': 1, 'M_BC110_2': 1, 'M_DS110_7': 1, 'M_DS110_8': 1, 'M_DS110_9': 1, 'M_DS110_10': 1, 'M_DS110_11': 1, 'M_DS110_12': 1, 'M_DS110_13': 1, 'M_DS110_14': 1, 'M_DS110_15': 1, 'M_DS110_16': 1, 'M_DS110_17': 1, 'M_DS110_18': 1, 'M_DS110_19': 1, 'M_DS110_20': 1, 'M_DS110_21': 1, 'M_DS110_22': 1, 'M_DS110_23': 1, 'M_DS110_24': 1, 'M_DS110_25': 1, 'M_DS110_26': 1, 'M_DS110_27': 1, 'M_DS110_28': 1, 'M_DS110_29': 1, 'M_DS110_30': 1, 'M_Line110_1': 1, 'M_Line110_2': 1, 'M_Line110_3': 1, 'M_Line110_4': 1, 'M_Line110_5': 1, 'M_Line110_6': 1, 'M_Line110_7': 1, 'M_Line110_8': 1, 'M_Line110_9': 1, 'M_Line110_10': 1, 'M_Line110_11': 1, 'M_Line110_12': 1}\n",
      "\n",
      "System capacity: 180.0 with details:\n",
      "\tTotal input: 360.0\n",
      "\tTotal output: 360.0\n",
      "\tTotal transmission: 180.0\n",
      "\tInput breakdowns: [96.0, 120.0, 144.0]\n",
      "\tOutput breakdowns: [48.0, 60.0, 72.0, 48.0, 60.0, 72.0]\n",
      "\tTransmission breakdowns: [0.0, 0.0, 180]\n"
     ]
    }
   ],
   "source": [
    "comps_st = {k: 1 for k in edges.keys()}\n",
    "for k in ['M_TF_1', 'M_TF_2']:\n",
    "    comps_st[k] = 0\n",
    "print(comps_st)\n",
    "\n",
    "sys_val = utils.sys_fun(comps_st, edges, nodes, node_groups, return_details=True)\n",
    "print(\"\")\n",
    "print(f\"System capacity: {sys_val[\"System capacity\"]} with details:\")\n",
    "for k, v in sys_val.items():\n",
    "    if k != \"System capacity\":\n",
    "        print(f\"\\t{k}: {v}\")"
   ]
  },
  {
   "cell_type": "markdown",
   "id": "27ac2722",
   "metadata": {},
   "source": [
    "# Updating prob.json \n",
    "\n",
    "Given a PGA (g) value."
   ]
  },
  {
   "cell_type": "code",
   "execution_count": 16,
   "id": "1d89cc2e",
   "metadata": {},
   "outputs": [
    {
     "name": "stdout",
     "output_type": "stream",
     "text": [
      "Saved ../data/probs.json\n"
     ]
    }
   ],
   "source": [
    "pga_g = 0.6\n",
    "probs = utils.get_edge_probs(pga_g)"
   ]
  }
 ],
 "metadata": {
  "kernelspec": {
   "display_name": "mbnpy",
   "language": "python",
   "name": "python3"
  },
  "language_info": {
   "codemirror_mode": {
    "name": "ipython",
    "version": 3
   },
   "file_extension": ".py",
   "mimetype": "text/x-python",
   "name": "python",
   "nbconvert_exporter": "python",
   "pygments_lexer": "ipython3",
   "version": "3.12.11"
  }
 },
 "nbformat": 4,
 "nbformat_minor": 5
}
