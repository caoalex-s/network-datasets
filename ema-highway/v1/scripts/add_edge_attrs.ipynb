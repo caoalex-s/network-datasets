{
 "cells": [
  {
   "cell_type": "code",
   "execution_count": 12,
   "id": "8d0b1473",
   "metadata": {},
   "outputs": [],
   "source": [
    "import math, json"
   ]
  },
  {
   "cell_type": "code",
   "execution_count": 13,
   "id": "f184b7e0",
   "metadata": {},
   "outputs": [],
   "source": [
    "nodes_dict = json.load(open(\"../data/nodes.json\"))\n",
    "edges_dict = json.load(open(\"../data/edges.json\"))"
   ]
  },
  {
   "cell_type": "markdown",
   "id": "c193d66a",
   "metadata": {},
   "source": [
    "# Lengths"
   ]
  },
  {
   "cell_type": "code",
   "execution_count": 14,
   "id": "673f3e56",
   "metadata": {},
   "outputs": [],
   "source": [
    "def compute_edge_lengths(nodes_dict, edges_dict):\n",
    "    \"\"\"\n",
    "    Compute Euclidean length in km for each edge.\n",
    "      nodes_dict: {node_id: {\"x\": float(km), \"y\": float(km)}}\n",
    "      edges_dict: {edge_id: {\"from\": str, \"to\": str, \"directed\": bool}}\n",
    "    Returns:\n",
    "      {edge_id: float}\n",
    "    \"\"\"\n",
    "    lengths = {}\n",
    "    for eid, e in edges_dict.items():\n",
    "        u, v = e[\"from\"], e[\"to\"]\n",
    "        x1, y1 = nodes_dict[u][\"x\"], nodes_dict[u][\"y\"]\n",
    "        x2, y2 = nodes_dict[v][\"x\"], nodes_dict[v][\"y\"]\n",
    "        lengths[eid] = math.hypot(x2 - x1, y2 - y1)\n",
    "    return lengths"
   ]
  },
  {
   "cell_type": "code",
   "execution_count": 15,
   "id": "ef9bc0b3",
   "metadata": {},
   "outputs": [],
   "source": [
    "lengths = compute_edge_lengths(nodes_dict, edges_dict)\n",
    "for e, v in edges_dict.items():\n",
    "    v[\"length_km\"] = lengths[e]\n",
    "    edges_dict[e] = v\n",
    "json.dump(edges_dict, open(\"../data/edges.json\", \"w\"), indent=4)"
   ]
  },
  {
   "cell_type": "markdown",
   "id": "b3c58d6f",
   "metadata": {},
   "source": [
    "# Probability"
   ]
  },
  {
   "cell_type": "code",
   "execution_count": 16,
   "id": "89d5fc07",
   "metadata": {},
   "outputs": [],
   "source": [
    "probs = [0.1, 0.9]\n",
    "probs = {}\n",
    "for eid in edges_dict:\n",
    "    probs[eid] = {i: {\"p\": p} for i, p in enumerate(probs)}\n",
    "\n",
    "json.dump(probs, open(\"../data/probs_bin.json\", \"w\"), indent=4)"
   ]
  },
  {
   "cell_type": "code",
   "execution_count": 17,
   "id": "9411168c",
   "metadata": {},
   "outputs": [],
   "source": [
    "probs = [0.05, 0.10, 0.85]\n",
    "probs = {}\n",
    "for eid in edges_dict:\n",
    "    probs[eid] = {i: {\"p\": p} for i, p in enumerate(probs)}\n",
    "\n",
    "json.dump(probs, open(\"../data/probs_mult.json\", \"w\"), indent=4)"
   ]
  }
 ],
 "metadata": {
  "kernelspec": {
   "display_name": "mbnpy",
   "language": "python",
   "name": "python3"
  },
  "language_info": {
   "codemirror_mode": {
    "name": "ipython",
    "version": 3
   },
   "file_extension": ".py",
   "mimetype": "text/x-python",
   "name": "python",
   "nbconvert_exporter": "python",
   "pygments_lexer": "ipython3",
   "version": "3.12.11"
  }
 },
 "nbformat": 4,
 "nbformat_minor": 5
}
