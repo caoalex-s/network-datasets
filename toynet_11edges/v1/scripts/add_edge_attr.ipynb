{
 "cells": [
  {
   "cell_type": "code",
   "execution_count": 1,
   "id": "1ed7e416",
   "metadata": {},
   "outputs": [],
   "source": [
    "import json\n",
    "from ndtools import graphs"
   ]
  },
  {
   "cell_type": "code",
   "execution_count": 2,
   "id": "983183d5",
   "metadata": {},
   "outputs": [],
   "source": [
    "nodes_dict = json.load(open(\"../data/nodes.json\"))\n",
    "edges_dict = json.load(open(\"../data/edges.json\"))"
   ]
  },
  {
   "cell_type": "markdown",
   "id": "a72f1cc4",
   "metadata": {},
   "source": [
    "# Edge Lengths"
   ]
  },
  {
   "cell_type": "code",
   "execution_count": 3,
   "id": "9b4423a5",
   "metadata": {},
   "outputs": [],
   "source": [
    "lengths = graphs.compute_edge_lengths(nodes_dict, edges_dict)\n",
    "for e, v in edges_dict.items():\n",
    "    v[\"length\"] = lengths[e]\n",
    "    edges_dict[e] = v\n",
    "json.dump(edges_dict, open(\"../data/edges.json\", \"w\"), indent=4)"
   ]
  }
 ],
 "metadata": {
  "kernelspec": {
   "display_name": "mbnpy",
   "language": "python",
   "name": "python3"
  },
  "language_info": {
   "codemirror_mode": {
    "name": "ipython",
    "version": 3
   },
   "file_extension": ".py",
   "mimetype": "text/x-python",
   "name": "python",
   "nbconvert_exporter": "python",
   "pygments_lexer": "ipython3",
   "version": "3.12.11"
  }
 },
 "nbformat": 4,
 "nbformat_minor": 5
}
